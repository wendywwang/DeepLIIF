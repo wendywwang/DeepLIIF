{
 "cells": [
  {
   "cell_type": "markdown",
   "metadata": {
    "id": "323c4a86-a69d-4b72-801e-ca3574399fc9"
   },
   "source": [
    "# WML-A Job Submission via WML-A CLI\n",
    "\n",
    "Offical examples can be found here: https://wmla-console-wmla-ns.apps.datascienceelite.com/ui/#/cliTools"
   ]
  },
  {
   "cell_type": "code",
   "execution_count": 6,
   "metadata": {
    "id": "9a0475e8-bcb3-4424-8c39-873935847fc4",
    "tags": []
   },
   "outputs": [
    {
     "name": "stdout",
     "output_type": "stream",
     "text": [
      "env: DIR=/userfs\n",
      "env: HOST=wmla-console-wmla-ns.apps.cpolab.ibm.com\n"
     ]
    }
   ],
   "source": [
    "%env DIR=/userfs\n",
    "%env HOST=wmla-console-wmla-ns.apps.cpolab.ibm.com"
   ]
  },
  {
   "cell_type": "code",
   "execution_count": 242,
   "metadata": {
    "id": "facb489c-de25-498d-81f2-f45f9716a09d",
    "tags": []
   },
   "outputs": [
    {
     "name": "stdout",
     "output_type": "stream",
     "text": [
      "1.9G\t/userfs\n"
     ]
    }
   ],
   "source": [
    "!du -sh /userfs"
   ]
  },
  {
   "cell_type": "code",
   "execution_count": 243,
   "metadata": {
    "id": "a60e747d-1c2b-4d56-a5eb-c7f13ae8b5c7",
    "tags": []
   },
   "outputs": [
    {
     "name": "stdout",
     "output_type": "stream",
     "text": [
      "Filesystem                                                                                                                                                Size  Used Avail Use% Mounted on\n",
      "172.30.195.80:6789,172.30.12.225:6789,172.30.160.109:6789:/volumes/csi/csi-vol-0ca97bb7-40ff-11ec-8633-0a580a80040f/123cc037-9b42-4ab8-a00e-6536da440743   30G   26G  4.9G  84% /userfs\n"
     ]
    }
   ],
   "source": [
    "!df -h /userfs"
   ]
  },
  {
   "cell_type": "markdown",
   "metadata": {
    "id": "5b383562-c544-48a5-8bc2-89001a46398b"
   },
   "source": [
    "### Submit Jobs"
   ]
  },
  {
   "cell_type": "code",
   "execution_count": 25,
   "metadata": {
    "id": "b58687a3-7084-416c-a2ac-e1dc3bd2a032",
    "tags": []
   },
   "outputs": [
    {
     "name": "stdout",
     "output_type": "stream",
     "text": [
      "env: DIR_job_submission=/userfs/job_submission\n"
     ]
    }
   ],
   "source": [
    "%env DIR_job_submission=/userfs/job_submission\n",
    "\n",
    "!rm -rf $DIR_job_submission\n",
    "!mkdir -p $DIR_job_submission\n",
    "\n",
    "!cp -r $DIR/deepliif $DIR_job_submission\n",
    "!cp $DIR/train.py $DIR_job_submission\n",
    "!cp $DIR/train_command.py $DIR_job_submission\n",
    "!cp $DIR/monitor_gpu.sh $DIR_job_submission\n",
    "!cp $DIR/custom_save.py $DIR_job_submission"
   ]
  },
  {
   "cell_type": "code",
   "execution_count": 26,
   "metadata": {
    "id": "c35c45d6-49e2-4c08-9b65-006a52ff04a2",
    "tags": []
   },
   "outputs": [
    {
     "name": "stdout",
     "output_type": "stream",
     "text": [
      "Copying files and directories ...\n",
      "Content size: 68.1K\n",
      "{\n",
      "  \"execId\": \"wmla-ns-135\",\n",
      "  \"appId\": \"wmla-ns-135\"\n",
      "}\n"
     ]
    }
   ],
   "source": [
    "!python dlicmd.py --exec-start PyTorch --rest-host $HOST --rest-port -1 --workerDeviceNum 2 \\\n",
    "                  --cs-datastore-meta type=fs,data_path=DeepLIIF_Datasets/ --appName dlicmd-submission-wendy \\\n",
    "                  --model-dir $DIR_job_submission --model-main train_command.py --workerMemory 8g \\\n",
    "                  --jwt-token $USER_ACCESS_TOKEN \\\n",
    "                  --msd-env USER_ACCESS_TOKEN=$USER_ACCESS_TOKEN --msd-env BASE_URL=https://daell-wmla.datascienceelite.com"
   ]
  },
  {
   "cell_type": "markdown",
   "metadata": {
    "id": "10ab43f9-45c9-443c-836e-70b8d93201a5"
   },
   "source": [
    "### Delete Jobs (and associated results/logs)\n",
    "#### delete one job"
   ]
  },
  {
   "cell_type": "code",
   "execution_count": 20,
   "metadata": {
    "id": "9187399d-98df-4842-ae9f-03d83db495e7",
    "tags": []
   },
   "outputs": [
    {
     "name": "stdout",
     "output_type": "stream",
     "text": [
      "Delete exec wmla-ns-38 succeed. HTTP:204 \n"
     ]
    }
   ],
   "source": [
    "# !python dlicmd.py --exec-delete wmla-ns-38 --rest-host $HOST --rest-port -1 --jwt-token $USER_ACCESS_TOKEN "
   ]
  },
  {
   "cell_type": "markdown",
   "metadata": {
    "id": "6bd3a390-7342-440f-9eab-9f81724edc34"
   },
   "source": [
    "#### delete multiple jobs in a loop"
   ]
  },
  {
   "cell_type": "code",
   "execution_count": 24,
   "metadata": {
    "id": "839e4708-ebe6-47e9-824a-7ed55715859f",
    "tags": []
   },
   "outputs": [
    {
     "name": "stdout",
     "output_type": "stream",
     "text": [
      "env: i=130\n",
      "Delete exec wmla-ns-130 failed. HTTP:400 Error 400: Cannot find exec id wmla-ns-130.\n",
      "\n",
      "env: i=131\n",
      "Delete exec wmla-ns-131 failed. HTTP:400 Error 400: Cannot find exec id wmla-ns-131.\n",
      "\n",
      "env: i=132\n",
      "Delete exec wmla-ns-132 failed. HTTP:400 Error 400: Cannot find exec id wmla-ns-132.\n",
      "\n",
      "env: i=133\n",
      "Delete exec wmla-ns-133 failed. HTTP:400 Error 400: Cannot find exec id wmla-ns-133.\n",
      "\n",
      "env: i=134\n",
      "Delete exec wmla-ns-134 succeed. HTTP:204 \n",
      "env: i=135\n",
      "Delete exec wmla-ns-135 failed. HTTP:400 Error 400: Cannot find exec id wmla-ns-135.\n",
      "\n",
      "env: i=136\n",
      "Delete exec wmla-ns-136 failed. HTTP:400 Error 400: Cannot find exec id wmla-ns-136.\n",
      "\n",
      "env: i=137\n",
      "Delete exec wmla-ns-137 failed. HTTP:400 Error 400: Cannot find exec id wmla-ns-137.\n",
      "\n",
      "env: i=138\n",
      "Delete exec wmla-ns-138 failed. HTTP:400 Error 400: Cannot find exec id wmla-ns-138.\n",
      "\n",
      "env: i=139\n",
      "Delete exec wmla-ns-139 failed. HTTP:400 Error 400: Cannot find exec id wmla-ns-139.\n",
      "\n"
     ]
    }
   ],
   "source": [
    "for i in range(130,140):\n",
    "    %env i=$i\n",
    "    !python dlicmd.py --exec-delete wmla-ns-$i --rest-host $HOST --rest-port -1 --jwt-token $USER_ACCESS_TOKEN "
   ]
  },
  {
   "cell_type": "markdown",
   "metadata": {
    "id": "a87fd618-0d5d-4f7d-b14c-abf160171a63"
   },
   "source": [
    "### Get Job Status"
   ]
  },
  {
   "cell_type": "code",
   "execution_count": 59,
   "metadata": {
    "id": "5c1ffd65-e531-4fbc-9cef-7d9d47020d24",
    "tags": []
   },
   "outputs": [
    {
     "name": "stdout",
     "output_type": "stream",
     "text": [
      "{\n",
      "  \"id\": \"wmla-ns-61\",\n",
      "  \"args\": \"--exec-start PyTorch --workerDeviceNum 1 --cs-datastore-meta type=fs,data_path=DeepLIIF_Datasets/ --appName dlicmd-submission-1 --model-dir job_submission --model-main train_command.py --msd-env USER_ACCESS_TOKEN=eyJhbGciOiJSUzI1NiIsInR5cCI6IkpXVCIsImtpZCI6IkViSEpBdDhiVTNIUW1HeGw5ZmVJMXRuMWhkQTBSekV6TUNIZ3lsOTdfMVUifQ.eyJ1aWQiOiIxMDAwMzMxMDAyIiwidXNlcm5hbWUiOiJ3ZW5keSIsInJvbGUiOiJBZG1pbiIsInBlcm1pc3Npb25zIjpbImFkbWluaXN0cmF0b3IiLCJjYW5fcHJvdmlzaW9uIiwibWFuYWdlX2NhdGFsb2ciLCJjcmVhdGVfcHJvamVjdCIsImNyZWF0ZV9zcGFjZSIsIm1hbmFnZV9xdWFsaXR5IiwibWFuYWdlX2luZm9ybWF0aW9uX2Fzc2V0cyIsIm1hbmFnZV9kaXNjb3ZlcnkiLCJtYW5hZ2VfbWV0YWRhdGFfaW1wb3J0IiwiYXV0aG9yX2dvdmVybmFuY2VfYXJ0aWZhY3RzIiwibWFuYWdlX2dvdmVybmFuY2Vfd29ya2Zsb3ciLCJ2aWV3X2dvdmVybmFuY2VfYXJ0aWZhY3RzIiwibWFuYWdlX2NhdGVnb3JpZXMiLCJhY2Nlc3NfY2F0YWxvZyIsInZpZXdfcXVhbGl0eSJdLCJncm91cHMiOlsxMDAwMF0sInN1YiI6IndlbmR5IiwiaXNzIjoiS05PWFNTTyIsImF1ZCI6IkRTWCIsImlhdCI6MTYzODc2MTYxNCwiZXhwIjozNjE2Mzg3NTgwMTR9.FBllE84F26CvOyLItbJZkSx_EYVvEWJcrgarjZsS6HsUk21S5jOt3FsHNzvEyhkAH4ND8ixg54s-oyMihvomvKPpicP86eXe-Rq4S5Y-5gaVLFs3k9f2oDaQMBYBU-lyryzpx64rnVun4iuHdR94w839LaofxSHLETaRSen_is2YBdCUpqtO0euIvLejEx1TWwW9TIxN7oztkjdo7mL0RCYkv7kRKFB7FwWrGqWwD-Y7XCNGzIBj04i-HqB8ix8aScm-mb4isPMR9zV6GOlU9eNfgGdk2bu6TGQsmaK4GfZgt54PXbrLs9UnrAMtuxZX0FLBcIjn45Pg_oGfei6CgA --msd-env RUNTIME_ENV_APSX_URL=https://internal-nginx-svc:12443 \",\n",
      "  \"submissionId\": \"wmla-ns-61\",\n",
      "  \"creator\": \"wendy\",\n",
      "  \"state\": \"ERROR\",\n",
      "  \"appId\": \"wmla-ns-61\",\n",
      "  \"schedulerUrl\": \"https://wmla-mss:9080\",\n",
      "  \"modelFileOwnerName\": \"wmla\",\n",
      "  \"workDir\": \"/gpfs/myresultfs/wendy/batchworkdir/wmla-ns-61/_submitted_code/job_submission\",\n",
      "  \"appName\": \"dlicmd-submission-1\",\n",
      "  \"createTime\": \"2021-12-09T17:31:48Z\",\n",
      "  \"elastic\": false,\n",
      "  \"events\": \"Job <wmla-ns-61> task <1> failed\",\n",
      "  \"nameSpace\": \"wmla-ns\",\n",
      "  \"numWorker\": 1,\n",
      "  \"framework\": \"PyTorch\"\n",
      "}\n"
     ]
    }
   ],
   "source": [
    "!python dlicmd.py --exec-get wmla-ns-61 --rest-host $HOST --rest-port -1 --jwt-token $USER_ACCESS_TOKEN"
   ]
  },
  {
   "cell_type": "markdown",
   "metadata": {
    "id": "31923da7-9f80-4634-bd8e-4fd99b1ce687"
   },
   "source": [
    "### Get Job Log\n",
    "#### last several lines"
   ]
  },
  {
   "cell_type": "code",
   "execution_count": 278,
   "metadata": {
    "id": "90b9325a-6aa6-402f-872d-91e2482c5025",
    "tags": []
   },
   "outputs": [
    {
     "name": "stdout",
     "output_type": "stream",
     "text": [
      "================================================================================\n",
      "Executor 1 stdout\n",
      "*Task <1> SubProcess*: wmla-ns-135-task12n-7kx58  Thu Dec 16 13:52:31 2021  470.57.02\n",
      "*Task <1> SubProcess*: [0] Tesla V100-PCIE-32GB | 67'C,   0 % | 26037 / 32510 MB |\n",
      "*Task <1> SubProcess*: [1] Tesla V100-PCIE-32GB | 59'C,   0 % | 20633 / 32510 MB |\n",
      "*Task <1> SubProcess*: Success: ./checkpoints/Test_Model/pickle/display_current_results.pickle is saved to storage volume DeepLiif-Data at checkpoints/pickle/display_current_results.pickle\n",
      "*Task <1> SubProcess*: (epoch: 87, iters: 456, time: 0.965, data: 0.200) G_GAN_1: 2.321 G_L1_1: 1.945 D_real_1: 0.285 D_fake_1: 0.142 G_GAN_2: 1.974 G_L1_2: 2.036 D_real_2: 0.340 D_fake_2: 0.225 G_GAN_3: 3.951 G_L1_3: 1.216 D_real_3: 0.038 D_fake_3: 0.099 G_GAN_4: 0.954 G_L1_4: 0.147 D_real_4: 0.691 D_fake_4: 0.499 G_GAN_5: 0.998 G_L1_5: 6.322 D_real_5: 0.000 D_fake_5: 0.000 \n",
      "*Task <1> SubProcess*: Remote mode, snapshot refreshed: plot_current_losses\n",
      "*Task <1> SubProcess*: Success: ./checkpoints/Test_Model/pickle/plot_current_losses.pickle is saved to storage volume DeepLiif-Data at checkpoints/pickle/plot_current_losses.pickle\n",
      "*Task <1> SubProcess*: wmla-ns-135-task12n-7kx58  Thu Dec 16 13:52:36 2021  470.57.02\n",
      "*Task <1> SubProcess*: [0] Tesla V100-PCIE-32GB | 68'C,  99 % | 26037 / 32510 MB |\n",
      "*Task <1> SubProcess*: [1] Tesla V100-PCIE-32GB | 60'C,  90 % | 20633 / 32510 MB |\n",
      "\n",
      "\n"
     ]
    }
   ],
   "source": [
    "!python dlicmd.py --exec-outlogs wmla-ns-135 --rest-host $HOST --rest-port -1 --jwt-token $USER_ACCESS_TOKEN"
   ]
  },
  {
   "cell_type": "markdown",
   "metadata": {
    "id": "2d33b3ca-a56c-4087-86f8-396ce81588a5"
   },
   "source": [
    "#### full log files"
   ]
  },
  {
   "cell_type": "code",
   "execution_count": 279,
   "metadata": {
    "id": "a84e3f7e-71f8-402e-89ec-81a2ed43633f",
    "tags": []
   },
   "outputs": [],
   "source": [
    "# !python dlicmd.py --exec-trainerrlogs wmla-ns-134 --rest-host $HOST --rest-port -1 --jwt-token $USER_ACCESS_TOKEN"
   ]
  },
  {
   "cell_type": "code",
   "execution_count": 273,
   "metadata": {
    "id": "7fc41da3-9496-4fe3-882e-f5a47e6bff1b",
    "tags": []
   },
   "outputs": [
    {
     "name": "stdout",
     "output_type": "stream",
     "text": [
      "[1] Tesla V100-PCIE-32GB | 60'C,  97 % | 20633 / 32510 MB |\n",
      "wmla-ns-135-task12n-7kx58  Thu Dec 16 05:31:04 2021  470.57.02\n",
      "[0] Tesla V100-PCIE-32GB | 69'C,  88 % | 26037 / 32510 MB |\n",
      "[1] Tesla V100-PCIE-32GB | 62'C,  98 % | 20633 / 32510 MB |\n",
      "wmla-ns-135-task12n-7kx58  Thu Dec 16 05:31:09 2021  470.57.02\n",
      "[0] Tesla V100-PCIE-32GB | 68'C,  99 % | 26037 / 32510 MB |\n",
      "[1] Tesla V100-PCIE-32GB | 61'C,  99 % | 20633 / 32510 MB |\n",
      "wmla-ns-135-task12n-7kx58  Thu Dec 16 05:31:14 2021  470.57.02\n",
      "[0] Tesla V100-PCIE-32GB | 69'C,  23 % | 26037 / 32510 MB |\n",
      "[1] Tesla V100-PCIE-32GB | 61'C,  22 % | 20633 / 32510 MB |\n",
      "wmla-ns-135-task12n-7kx58  Thu Dec 16 05:31:19 2021  470.57.02\n",
      "[0] Tesla V100-PCIE-32GB | 68'C,  98 % | 26037 / 32510 MB |\n",
      "[1] Tesla V100-PCIE-32GB | 60'C,  98 % | 20633 / 32510 MB |\n",
      "wmla-ns-135-task12n-7kx58  Thu Dec 16 05:31:25 2021  470.57.02\n",
      "[0] Tesla V100-PCIE-32GB | 69'C,  98 % | 26037 / 32510 MB |\n",
      "[1] Tesla V100-PCIE-32GB | 62'C,  84 % | 20633 / 32510 MB |\n",
      "wmla-ns-135-task12n-7kx58  Thu Dec 16 05:31:30 2021  470.57.02\n",
      "[0] Tesla V100-PCIE-32GB | 69'C,  95 % | 26037 / 32510 MB |\n",
      "[1] Tesla V100-PCIE-32GB | 61'C,  90 % | 20633 / 32510 MB |\n",
      "wmla-ns-135-task12n-7kx58  Thu Dec 16 05:31:35 2021  470.57.02\n",
      "[0] Tesla V100-PCIE-32GB | 69'C,  99 % | 26037 / 32510 MB |\n",
      "[1] Tesla V100-PCIE-32GB | 62'C,  98 % | 20633 / 32510 MB |\n",
      "(epoch: 16, iters: 508, time: 0.541, data: 0.208) G_GAN_1: 0.998 G_L1_1: 2.153 D_real_1: 1.256 D_fake_1: 0.913 G_GAN_2: 1.094 G_L1_2: 1.661 D_real_2: 0.963 D_fake_2: 0.216 G_GAN_3: 1.047 G_L1_3: 1.038 D_real_3: 0.562 D_fake_3: 0.583 G_GAN_4: 1.197 G_L1_4: 0.355 D_real_4: 1.227 D_fake_4: 0.415 G_GAN_5: 0.975 G_L1_5: 14.969 D_real_5: 0.002 D_fake_5: 0.002 \n",
      "Remote mode, snapshot refreshed: plot_current_losses\n",
      "Success: ./checkpoints/Test_Model/pickle/plot_current_losses.pickle is saved to storage volume DeepLiif-Data at checkpoints/pickle/plot_current_losses.pickle\n",
      "wmla-ns-135-task12n-7kx58  Thu Dec 16 05:31:40 2021  470.57.02\n",
      "[0] Tesla V100-PCIE-32GB | 68'C,  99 % | 26037 / 32510 MB |\n",
      "[1] Tesla V100-PCIE-32GB | 61'C,  98 % | 20633 / 32510 MB |\n",
      "wmla-ns-135-task12n-7kx58  Thu Dec 16 05:31:45 2021  470.57.02\n",
      "[0] Tesla V100-PCIE-32GB | 69'C,  95 % | 26037 / 32510 MB |\n",
      "[1] Tesla V100-PCIE-32GB | 61'C,  98 % | 20633 / 32510 MB |\n",
      "wmla-ns-135-task12n-7kx58  Thu Dec 16 05:31:50 2021  470.57.02\n",
      "[0] Tesla V100-PCIE-32GB | 68'C,  98 % | 26037 / 32510 MB |\n",
      "[1] Tesla V100-PCIE-32GB | 60'C,  98 % | 20633 / 32510 MB |\n",
      "wmla-ns-135-task12n-7kx58  Thu Dec 16 05:31:55 2021  470.57.02\n",
      "[0] Tesla V100-PCIE-32GB | 68'C,  99 % | 26037 / 32510 MB |\n",
      "[1] Tesla V100-PCIE-32GB | 61'C,  99 % | 20633 / 32510 MB |\n",
      "wmla-ns-135-task12n-7kx58  Thu Dec 16 05:32:00 2021  470.57.02\n",
      "[0] Tesla V100-PCIE-32GB | 67'C,  99 % | 26037 / 32510 MB |\n",
      "[1] Tesla V100-PCIE-32GB | 60'C,  98 % | 20633 / 32510 MB |\n",
      "wmla-ns-135-task12n-7kx58  Thu Dec 16 05:32:06 2021  470.57.02\n",
      "[0] Tesla V100-PCIE-32GB | 69'C,  99 % | 26037 / 32510 MB |\n",
      "[1] Tesla V100-PCIE-32GB | 61'C, 100 % | 20633 / 32510 MB |\n",
      "wmla-ns-135-task12n-7kx58  Thu Dec 16 05:32:11 2021  470.57.02\n",
      "[0] Tesla V100-PCIE-32GB | 69'C,  27 % | 26037 / 32510 MB |\n",
      "[1] Tesla V100-PCIE-32GB | 61'C,  48 % | 20633 / 32510 MB |\n",
      "wmla-ns-135-task12n-7kx58  Thu Dec 16 05:32:16 2021  470.57.02\n",
      "[0] Tesla V100-PCIE-32GB | 68'C,  98 % | 26037 / 32510 MB |\n",
      "[1] Tesla V100-PCIE-32GB | 60'C,  92 % | 20633 / 32510 MB |\n",
      "\n"
     ]
    }
   ],
   "source": [
    "!python dlicmd.py --exec-trainoutlogs wmla-ns-135 --rest-host $HOST --rest-port -1 --jwt-token $USER_ACCESS_TOKEN \\\n",
    " | tail -n 50"
   ]
  }
 ],
 "metadata": {
  "kernelspec": {
   "display_name": "Python 3.7 + GPU with applications",
   "language": "python",
   "name": "python3"
  },
  "language_info": {
   "codemirror_mode": {
    "name": "ipython",
    "version": 3
   },
   "file_extension": ".py",
   "mimetype": "text/x-python",
   "name": "python",
   "nbconvert_exporter": "python",
   "pygments_lexer": "ipython3",
   "version": "3.7.11"
  }
 },
 "nbformat": 4,
 "nbformat_minor": 4
}
